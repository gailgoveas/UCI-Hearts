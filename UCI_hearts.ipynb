{
 "cells": [
  {
   "cell_type": "code",
   "execution_count": 1,
   "id": "56273f6b",
   "metadata": {},
   "outputs": [],
   "source": [
    "#importing modules\n",
    "\n",
    "import pandas as pd\n",
    "import numpy as np\n",
    "\n",
    "from matplotlib import pyplot as plt\n",
    "\n",
    "from sklearn.model_selection import train_test_split\n",
    "\n",
    "from sklearn.ensemble import RandomForestClassifier\n",
    "\n",
    "from sklearn.metrics import confusion_matrix, accuracy_score, classification_report\n"
   ]
  },
  {
   "cell_type": "code",
   "execution_count": 2,
   "id": "3c7c2384",
   "metadata": {},
   "outputs": [],
   "source": [
    "#Loading the dataframe\n",
    "\n",
    "df = pd.read_csv('heart.csv')\n"
   ]
  },
  {
   "cell_type": "code",
   "execution_count": 3,
   "id": "5df96fc3",
   "metadata": {},
   "outputs": [],
   "source": [
    "#df.dtypes"
   ]
  },
  {
   "cell_type": "code",
   "execution_count": 4,
   "id": "89907902",
   "metadata": {},
   "outputs": [],
   "source": [
    "#converting all categorical data to numeric data by creating dummies using one hot encoding method\n",
    "\n",
    "\n",
    "dummy_variables = pd.get_dummies(df[[\"sex\",\"dataset\",\"cp\",\"fbs\",\"restecg\",\"exang\",\"slope\",\"thal\"]])\n"
   ]
  },
  {
   "cell_type": "code",
   "execution_count": 5,
   "id": "0d2524d4",
   "metadata": {},
   "outputs": [],
   "source": [
    "#merge dummy variables with the main dataframe\n",
    "df = pd.concat([df, dummy_variables], axis=1)"
   ]
  },
  {
   "cell_type": "code",
   "execution_count": 6,
   "id": "4449e587",
   "metadata": {},
   "outputs": [],
   "source": [
    "\n",
    "#dropping original categorical data\n",
    "df.drop([\"sex\",\"dataset\",\"cp\",\"fbs\",\"restecg\",\"exang\",\"slope\",\"thal\"], axis = 1, inplace=True)"
   ]
  },
  {
   "cell_type": "code",
   "execution_count": 7,
   "id": "90ef07aa",
   "metadata": {},
   "outputs": [
    {
     "data": {
      "text/html": [
       "<div>\n",
       "<style scoped>\n",
       "    .dataframe tbody tr th:only-of-type {\n",
       "        vertical-align: middle;\n",
       "    }\n",
       "\n",
       "    .dataframe tbody tr th {\n",
       "        vertical-align: top;\n",
       "    }\n",
       "\n",
       "    .dataframe thead th {\n",
       "        text-align: right;\n",
       "    }\n",
       "</style>\n",
       "<table border=\"1\" class=\"dataframe\">\n",
       "  <thead>\n",
       "    <tr style=\"text-align: right;\">\n",
       "      <th></th>\n",
       "      <th>trestbps</th>\n",
       "      <th>thalch</th>\n",
       "      <th>oldpeak</th>\n",
       "      <th>ca</th>\n",
       "      <th>chol</th>\n",
       "    </tr>\n",
       "  </thead>\n",
       "  <tbody>\n",
       "    <tr>\n",
       "      <th>count</th>\n",
       "      <td>861.000000</td>\n",
       "      <td>865.000000</td>\n",
       "      <td>858.000000</td>\n",
       "      <td>309.000000</td>\n",
       "      <td>890.000000</td>\n",
       "    </tr>\n",
       "    <tr>\n",
       "      <th>mean</th>\n",
       "      <td>132.132404</td>\n",
       "      <td>137.545665</td>\n",
       "      <td>0.878788</td>\n",
       "      <td>0.676375</td>\n",
       "      <td>199.130337</td>\n",
       "    </tr>\n",
       "    <tr>\n",
       "      <th>std</th>\n",
       "      <td>19.066070</td>\n",
       "      <td>25.926276</td>\n",
       "      <td>1.091226</td>\n",
       "      <td>0.935653</td>\n",
       "      <td>110.780810</td>\n",
       "    </tr>\n",
       "    <tr>\n",
       "      <th>min</th>\n",
       "      <td>0.000000</td>\n",
       "      <td>60.000000</td>\n",
       "      <td>-2.600000</td>\n",
       "      <td>0.000000</td>\n",
       "      <td>0.000000</td>\n",
       "    </tr>\n",
       "    <tr>\n",
       "      <th>25%</th>\n",
       "      <td>120.000000</td>\n",
       "      <td>120.000000</td>\n",
       "      <td>0.000000</td>\n",
       "      <td>0.000000</td>\n",
       "      <td>175.000000</td>\n",
       "    </tr>\n",
       "    <tr>\n",
       "      <th>50%</th>\n",
       "      <td>130.000000</td>\n",
       "      <td>140.000000</td>\n",
       "      <td>0.500000</td>\n",
       "      <td>0.000000</td>\n",
       "      <td>223.000000</td>\n",
       "    </tr>\n",
       "    <tr>\n",
       "      <th>75%</th>\n",
       "      <td>140.000000</td>\n",
       "      <td>157.000000</td>\n",
       "      <td>1.500000</td>\n",
       "      <td>1.000000</td>\n",
       "      <td>268.000000</td>\n",
       "    </tr>\n",
       "    <tr>\n",
       "      <th>max</th>\n",
       "      <td>200.000000</td>\n",
       "      <td>202.000000</td>\n",
       "      <td>6.200000</td>\n",
       "      <td>3.000000</td>\n",
       "      <td>603.000000</td>\n",
       "    </tr>\n",
       "  </tbody>\n",
       "</table>\n",
       "</div>"
      ],
      "text/plain": [
       "         trestbps      thalch     oldpeak          ca        chol\n",
       "count  861.000000  865.000000  858.000000  309.000000  890.000000\n",
       "mean   132.132404  137.545665    0.878788    0.676375  199.130337\n",
       "std     19.066070   25.926276    1.091226    0.935653  110.780810\n",
       "min      0.000000   60.000000   -2.600000    0.000000    0.000000\n",
       "25%    120.000000  120.000000    0.000000    0.000000  175.000000\n",
       "50%    130.000000  140.000000    0.500000    0.000000  223.000000\n",
       "75%    140.000000  157.000000    1.500000    1.000000  268.000000\n",
       "max    200.000000  202.000000    6.200000    3.000000  603.000000"
      ]
     },
     "execution_count": 7,
     "metadata": {},
     "output_type": "execute_result"
    }
   ],
   "source": [
    "df[[\"trestbps\",\"thalch\",\"oldpeak\",\"ca\",\"chol\"]].describe()\n"
   ]
  },
  {
   "cell_type": "code",
   "execution_count": 8,
   "id": "30b33124",
   "metadata": {},
   "outputs": [],
   "source": [
    "mean_trestbps = df[\"trestbps\"].mean()\n",
    "df[\"trestbps\"].replace(np.nan, mean_trestbps, inplace = True)\n",
    "\n",
    "mean_thalch = df[\"thalch\"].mean()\n",
    "df[\"thalch\"].replace(np.nan, mean_thalch, inplace = True)\n",
    "\n",
    "\n",
    "median_oldpeak = df[\"oldpeak\"].median()\n",
    "df[\"oldpeak\"].replace(np.nan, median_oldpeak, inplace = True)\n",
    "\n",
    "median_chol = df[\"chol\"].median()\n",
    "df[\"chol\"].replace(np.nan, median_chol, inplace = True)\n",
    "\n",
    "df[\"ca\"].replace(np.nan,0.0, inplace = True)"
   ]
  },
  {
   "cell_type": "code",
   "execution_count": 9,
   "id": "cc9013f5",
   "metadata": {},
   "outputs": [],
   "source": [
    "#df.dropna(subset = [\"trestbps\",\"thalch\",\"oldpeak\",\"chol\",\"ca\"], axis = 0, inplace = True)"
   ]
  },
  {
   "cell_type": "code",
   "execution_count": 10,
   "id": "70b01a91",
   "metadata": {},
   "outputs": [],
   "source": [
    "#Splitting data into training and testing set\n",
    "\n",
    "heart_training_set, heart_test_set = train_test_split(df, test_size=0.20,random_state=42)\n",
    "\n",
    "heart_training_data, heart_training_target = heart_training_set[['id', 'age', 'trestbps', 'chol', 'thalch', 'oldpeak', 'ca',\n",
    "       'sex_Female', 'sex_Male', 'dataset_Cleveland', 'dataset_Hungary',\n",
    "       'dataset_Switzerland', 'dataset_VA Long Beach', 'cp_asymptomatic',\n",
    "       'cp_atypical angina', 'cp_non-anginal', 'cp_typical angina',\n",
    "       'fbs_False', 'fbs_True', 'restecg_lv hypertrophy', 'restecg_normal',\n",
    "       'restecg_st-t abnormality', 'exang_False', 'exang_True',\n",
    "       'slope_downsloping', 'slope_flat', 'slope_upsloping',\n",
    "       'thal_fixed defect', 'thal_normal', 'thal_reversable defect']], heart_training_set[\"num\"]\n",
    "\n",
    "heart_test_data, heart_test_target = heart_test_set[['id', 'age', 'trestbps', 'chol', 'thalch', 'oldpeak', 'ca',\n",
    "       'sex_Female', 'sex_Male', 'dataset_Cleveland', 'dataset_Hungary',\n",
    "       'dataset_Switzerland', 'dataset_VA Long Beach', 'cp_asymptomatic',\n",
    "       'cp_atypical angina', 'cp_non-anginal', 'cp_typical angina',\n",
    "       'fbs_False', 'fbs_True', 'restecg_lv hypertrophy', 'restecg_normal',\n",
    "       'restecg_st-t abnormality', 'exang_False', 'exang_True',\n",
    "       'slope_downsloping', 'slope_flat', 'slope_upsloping',\n",
    "       'thal_fixed defect', 'thal_normal', 'thal_reversable defect']], heart_test_set[\"num\"]\n"
   ]
  },
  {
   "cell_type": "code",
   "execution_count": 11,
   "id": "b43a5087",
   "metadata": {},
   "outputs": [],
   "source": [
    "#df.columns[df.isna().any()].tolist()\n"
   ]
  },
  {
   "cell_type": "code",
   "execution_count": 12,
   "id": "f66d8bba",
   "metadata": {},
   "outputs": [],
   "source": [
    "clf = RandomForestClassifier(n_estimators=150)\n",
    "clf.fit(heart_training_data, heart_training_target)\n",
    "heart_test_target_predict=clf.predict(heart_test_data)"
   ]
  },
  {
   "cell_type": "code",
   "execution_count": 13,
   "id": "9aadb140",
   "metadata": {},
   "outputs": [
    {
     "name": "stdout",
     "output_type": "stream",
     "text": [
      "[[70  3  2  0  0]\n",
      " [14 32  5  3  0]\n",
      " [ 6 10  5  4  0]\n",
      " [ 6 12  1  6  1]\n",
      " [ 1  0  1  1  1]]\n"
     ]
    }
   ],
   "source": [
    "matrix = confusion_matrix(heart_test_target,heart_test_target_predict)\n",
    "print(matrix)"
   ]
  },
  {
   "cell_type": "code",
   "execution_count": 14,
   "id": "f78ae176",
   "metadata": {},
   "outputs": [
    {
     "name": "stdout",
     "output_type": "stream",
     "text": [
      "The accuracy is 0.6195652173913043\n"
     ]
    }
   ],
   "source": [
    "acc = accuracy_score(heart_test_target,heart_test_target_predict)\n",
    "print('The accuracy is', acc)"
   ]
  },
  {
   "cell_type": "code",
   "execution_count": 15,
   "id": "5ae07672",
   "metadata": {},
   "outputs": [
    {
     "name": "stdout",
     "output_type": "stream",
     "text": [
      "              precision    recall  f1-score   support\n",
      "\n",
      "           0       0.72      0.93      0.81        75\n",
      "           1       0.56      0.59      0.58        54\n",
      "           2       0.36      0.20      0.26        25\n",
      "           3       0.43      0.23      0.30        26\n",
      "           4       0.50      0.25      0.33         4\n",
      "\n",
      "    accuracy                           0.62       184\n",
      "   macro avg       0.51      0.44      0.46       184\n",
      "weighted avg       0.58      0.62      0.59       184\n",
      "\n"
     ]
    }
   ],
   "source": [
    "print(classification_report(heart_test_target, heart_test_target_predict))"
   ]
  }
 ],
 "metadata": {
  "kernelspec": {
   "display_name": "Python 3 (ipykernel)",
   "language": "python",
   "name": "python3"
  },
  "language_info": {
   "codemirror_mode": {
    "name": "ipython",
    "version": 3
   },
   "file_extension": ".py",
   "mimetype": "text/x-python",
   "name": "python",
   "nbconvert_exporter": "python",
   "pygments_lexer": "ipython3",
   "version": "3.10.0"
  }
 },
 "nbformat": 4,
 "nbformat_minor": 5
}
